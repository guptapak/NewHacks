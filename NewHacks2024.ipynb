{
  "cells": [
    {
      "cell_type": "markdown",
      "metadata": {
        "id": "view-in-github",
        "colab_type": "text"
      },
      "source": [
        "<a href=\"https://colab.research.google.com/github/guptapak/NewHacks/blob/main/NewHacks2024.ipynb\" target=\"_parent\"><img src=\"https://colab.research.google.com/assets/colab-badge.svg\" alt=\"Open In Colab\"/></a>"
      ]
    },
    {
      "cell_type": "code",
      "source": [
        "# Import the Python SDK\n",
        "!pip install reportlab\n",
        "import google.generativeai as genai\n",
        "from IPython.display import Markdown\n",
        "!pip install reportlab\n",
        "import json\n",
        "\n",
        "def resp_to_dict(response):\n",
        "  return json.loads(response.text.replace(\"```python\", \"\").replace(\"```\",\"\").replace(\"\\n\",\"\").replace(\" \",\"\").replace(\"\\\\\",\"\"))\n",
        "\n",
        "# Used to securely store your API key\n",
        "from google.colab import userdata\n",
        "\n",
        "\n",
        "GOOGLE_API_KEY=userdata.get('KEY')\n",
        "genai.configure(api_key=GOOGLE_API_KEY)\n",
        "\n",
        "\n",
        "model = genai.GenerativeModel('gemini-pro')\n",
        "\n",
        "\n",
        "# Upload the file and print a confirmation.\n",
        "sample_file = genai.upload_file(path=\"Before_flood.png\",\n",
        "                                display_name=\"Reference\")\n",
        "\n",
        "\n",
        "print(f\"Uploaded file '{sample_file.display_name}' as: {sample_file.uri}\")\n",
        "\n",
        "file = genai.get_file(name=sample_file.name)\n",
        "print(f\"Retrieved file '{file.display_name}' as: {sample_file.uri}\")\n",
        "\n",
        "# Choose a Gemini API model.\n",
        "model = genai.GenerativeModel(model_name=\"gemini-1.5-pro-latest\")\n",
        "\n",
        "# Prompt the model with text and the previously uploaded image.\n",
        "#response = model.generate_content([sample_file, \"insert prompt here\"])\n",
        "\n",
        "response_1 = model.generate_content([sample_file, \"\"\"Analyze the image I provide and identify the objects present in it. Output should be in json format. For each object, give an output in the form of a Python dictionary:\n",
        "\n",
        "python\n",
        "Copy code\n",
        "{\n",
        "    \"object_name\": {\n",
        "        \"count\": <number of objects detected>,\n",
        "        \"broken\": <number of broken objects>,\n",
        "        \"normal\": <number of normal objects>\n",
        "    }\n",
        "}\n",
        "Use the object's name as the key, and provide values for \"count,\" \"broken,\" and \"normal\" based on what you observe in the image. Even If an attribute does not apply to an object, do not omit it from the dictionary.\"\"\"])\n",
        "\n",
        "resp_1 = resp_to_dict(response_1)\n",
        "\n",
        "r1s = str(resp_1)\n",
        "\n",
        "# Upload the file and print a confirmation.\n",
        "sample_file_2 = genai.upload_file(path=\"After_flood.png\",\n",
        "                                display_name=\"Test\")\n",
        "\n",
        "print(f\"Uploaded file '{sample_file_2.display_name}' as: {sample_file_2.uri}\")\n",
        "\n",
        "file = genai.get_file(name=sample_file_2.name)\n",
        "print(f\"Retrieved file '{file.display_name}' as: {sample_file_2.uri}\")\n",
        "\n",
        "# Prompt the model with text and the previously uploaded image.\n",
        "#response = model.generate_content([sample_file, \"insert prompt here\"])\n",
        "\n",
        "s = \"\"\"If an object is same as the objects in the image beofre this, use the same name, do not use different names for the same object that appears in both the images.Analyze the image I provide and identify the objects present in it. Output should be in json format For each object, give an output in the form of a Python dictionary:\n",
        "\n",
        "python\n",
        "Copy code\n",
        "{\n",
        "    \"object_name\": {\n",
        "        \"count\": <number of objects detected>,\n",
        "        \"broken\": <number of broken objects>,\n",
        "        \"normal\": <number of normal objects>\n",
        "    }\n",
        "}\n",
        "Use the object's name as the key, and provide values for \"count,\" \"broken,\" and \"normal\" based on what you observe in the image. Even If an attribute does not apply to an object, do not omit it from the dictionary.\"\"\" + r1s\n",
        "\n",
        "response_2 = model.generate_content([sample_file_2, s])\n",
        "\n",
        "\n",
        "\n",
        "# #print(a)\n",
        "\n",
        "# b = []\n",
        "\n",
        "# for i in response:\n",
        "#     b.append(i)\n",
        "# print(b)\n",
        "# Display response_1 and response_2 outputs\n",
        "display(Markdown(\"### Response for Before Flood Image\"))\n",
        "display(Markdown(\">\" + response_1.text))\n",
        "\n",
        "display(Markdown(\"### Response for After Flood Image\"))\n",
        "display(Markdown(\">\" + response_2.text))\n",
        "\n",
        "# def resp_to_dict(response):\n",
        "#   return json.loads(response.text.replace(\"```python\", \"\").replace(\"```\",\"\").replace(\"\\n\",\"\").replace(\" \",\"\").replace(\"\\\\\",\"\"))\n",
        "resp_2 = resp_to_dict(response_2)\n",
        "missing_keys = set(resp_1.keys()) - set(resp_2.keys())\n",
        "\n",
        "print(\"missing keys :\", missing_keys)\n",
        "# Function to compare before and after flood dictionaries\n",
        "def find_missing_objects(resp_1, resp_2):\n",
        "    missing_objects = {}\n",
        "\n",
        "    for obj, details in resp_1.items():\n",
        "        if obj in resp_2:\n",
        "            # Compare the counts in both dictionaries\n",
        "            missing_count = details['count'] - resp_2[obj]['count']\n",
        "            if missing_count > 0:\n",
        "                missing_objects[obj] = missing_count\n",
        "        else:\n",
        "            # If the object doesn't exist in resp_2, it means all are missing\n",
        "            missing_objects[obj] = details['count']\n",
        "\n",
        "    return missing_objects\n",
        "\n",
        "# Call the function to find missing objects\n",
        "missing_objects = find_missing_objects(resp_1, resp_2)\n",
        "\n",
        "# Print the missing objects and the number of missing items\n",
        "print(\"Missing objects and counts:\", missing_objects)\n",
        "\n",
        "!pip install reportlab\n",
        "import os\n",
        "from reportlab.lib.pagesizes import letter\n",
        "from reportlab.lib import colors\n",
        "from reportlab.platypus import SimpleDocTemplate, Table, TableStyle\n",
        "from google.colab import files\n",
        "\n",
        "# Create the directory if it doesn't exist\n",
        "os.makedirs('/mnt/data', exist_ok=True)\n",
        "\n",
        "# Define the file path for the PDF\n",
        "file_path = '/mnt/data/insurance_claim.pdf'\n",
        "pdf = SimpleDocTemplate(file_path, pagesize=letter)\n",
        "\n",
        "# Table header\n",
        "data = [\n",
        "    [\"Item\", \"Qty\", \"Replacement Cost\", \"Total Cost\"]\n",
        "]\n",
        "\n",
        "# Example replacement costs, you may adjust this as needed\n",
        "replacement_cost_per_item = 500.0\n",
        "\n",
        "# Add each missing object to the table\n",
        "for item, qty in missing_objects.items():\n",
        "    total_cost = qty * replacement_cost_per_item\n",
        "    data.append([item, str(qty), str(replacement_cost_per_item), str(total_cost)])\n",
        "\n",
        "# Create a table with data\n",
        "table = Table(data)\n",
        "\n",
        "# Style the table\n",
        "style = TableStyle([\n",
        "    ('BACKGROUND', (0, 0), (-1, 0), colors.lightgrey),\n",
        "    ('TEXTCOLOR', (0, 0), (-1, 0), colors.black),\n",
        "    ('ALIGN', (0, 0), (-1, -1), 'CENTER'),\n",
        "    ('FONTNAME', (0, 0), (-1, 0), 'Helvetica-Bold'),\n",
        "    ('FONTSIZE', (0, 0), (-1, -1), 10),\n",
        "    ('BOTTOMPADDING', (0, 0), (-1, 0), 12),\n",
        "    ('BACKGROUND', (0, 1), (-1, -1), colors.white),\n",
        "    ('GRID', (0, 0), (-1, -1), 1, colors.black),\n",
        "])\n",
        "\n",
        "table.setStyle(style)\n",
        "\n",
        "# Build the PDF\n",
        "elements = [table]\n",
        "pdf.build(elements)\n",
        "\n",
        "# Download the PDF\n",
        "files.download(file_path)\n",
        "\n"
      ],
      "metadata": {
        "id": "ZR9oUm7KUAaq",
        "outputId": "6cfc3a42-8ea3-4b1a-fd1f-bd9c0f50a9c1",
        "colab": {
          "base_uri": "https://localhost:8080/",
          "height": 985
        }
      },
      "execution_count": null,
      "outputs": [
        {
          "output_type": "stream",
          "name": "stdout",
          "text": [
            "Requirement already satisfied: reportlab in /usr/local/lib/python3.10/dist-packages (4.2.5)\n",
            "Requirement already satisfied: pillow>=9.0.0 in /usr/local/lib/python3.10/dist-packages (from reportlab) (10.4.0)\n",
            "Requirement already satisfied: chardet in /usr/local/lib/python3.10/dist-packages (from reportlab) (5.2.0)\n",
            "Requirement already satisfied: reportlab in /usr/local/lib/python3.10/dist-packages (4.2.5)\n",
            "Requirement already satisfied: pillow>=9.0.0 in /usr/local/lib/python3.10/dist-packages (from reportlab) (10.4.0)\n",
            "Requirement already satisfied: chardet in /usr/local/lib/python3.10/dist-packages (from reportlab) (5.2.0)\n",
            "Uploaded file 'Reference' as: https://generativelanguage.googleapis.com/v1beta/files/5wl4l09qv3jb\n",
            "Retrieved file 'Reference' as: https://generativelanguage.googleapis.com/v1beta/files/5wl4l09qv3jb\n",
            "Uploaded file 'Test' as: https://generativelanguage.googleapis.com/v1beta/files/po0oodqp008\n",
            "Retrieved file 'Test' as: https://generativelanguage.googleapis.com/v1beta/files/po0oodqp008\n"
          ]
        },
        {
          "output_type": "display_data",
          "data": {
            "text/plain": [
              "<IPython.core.display.Markdown object>"
            ],
            "text/markdown": "### Response for Before Flood Image"
          },
          "metadata": {}
        },
        {
          "output_type": "display_data",
          "data": {
            "text/plain": [
              "<IPython.core.display.Markdown object>"
            ],
            "text/markdown": ">```python\n{\n  \"floor lamp\": {\n    \"count\": 1,\n    \"broken\": 0,\n    \"normal\": 1\n  },\n  \"chair\": {\n    \"count\": 2,\n    \"broken\": 0,\n    \"normal\": 2\n  },\n  \"table\": {\n    \"count\": 1,\n    \"broken\": 0,\n    \"normal\": 1\n  },\n  \"pendant light\": {\n    \"count\": 1,\n    \"broken\": 0,\n    \"normal\": 1\n  }\n}\n```"
          },
          "metadata": {}
        },
        {
          "output_type": "display_data",
          "data": {
            "text/plain": [
              "<IPython.core.display.Markdown object>"
            ],
            "text/markdown": "### Response for After Flood Image"
          },
          "metadata": {}
        },
        {
          "output_type": "display_data",
          "data": {
            "text/plain": [
              "<IPython.core.display.Markdown object>"
            ],
            "text/markdown": ">```python\n{\n  \"floor lamp\": {\n    \"count\": 1,\n    \"broken\": 0,\n    \"normal\": 1\n  },\n  \"pendant light\": {\n    \"count\": 1,\n    \"broken\": 0,\n    \"normal\": 1\n  }\n}\n```"
          },
          "metadata": {}
        },
        {
          "output_type": "stream",
          "name": "stdout",
          "text": [
            "missing keys : {'chair', 'table'}\n",
            "Missing objects and counts: {'chair': 2, 'table': 1}\n",
            "Requirement already satisfied: reportlab in /usr/local/lib/python3.10/dist-packages (4.2.5)\n",
            "Requirement already satisfied: pillow>=9.0.0 in /usr/local/lib/python3.10/dist-packages (from reportlab) (10.4.0)\n",
            "Requirement already satisfied: chardet in /usr/local/lib/python3.10/dist-packages (from reportlab) (5.2.0)\n"
          ]
        },
        {
          "output_type": "display_data",
          "data": {
            "text/plain": [
              "<IPython.core.display.Javascript object>"
            ],
            "application/javascript": [
              "\n",
              "    async function download(id, filename, size) {\n",
              "      if (!google.colab.kernel.accessAllowed) {\n",
              "        return;\n",
              "      }\n",
              "      const div = document.createElement('div');\n",
              "      const label = document.createElement('label');\n",
              "      label.textContent = `Downloading \"${filename}\": `;\n",
              "      div.appendChild(label);\n",
              "      const progress = document.createElement('progress');\n",
              "      progress.max = size;\n",
              "      div.appendChild(progress);\n",
              "      document.body.appendChild(div);\n",
              "\n",
              "      const buffers = [];\n",
              "      let downloaded = 0;\n",
              "\n",
              "      const channel = await google.colab.kernel.comms.open(id);\n",
              "      // Send a message to notify the kernel that we're ready.\n",
              "      channel.send({})\n",
              "\n",
              "      for await (const message of channel.messages) {\n",
              "        // Send a message to notify the kernel that we're ready.\n",
              "        channel.send({})\n",
              "        if (message.buffers) {\n",
              "          for (const buffer of message.buffers) {\n",
              "            buffers.push(buffer);\n",
              "            downloaded += buffer.byteLength;\n",
              "            progress.value = downloaded;\n",
              "          }\n",
              "        }\n",
              "      }\n",
              "      const blob = new Blob(buffers, {type: 'application/binary'});\n",
              "      const a = document.createElement('a');\n",
              "      a.href = window.URL.createObjectURL(blob);\n",
              "      a.download = filename;\n",
              "      div.appendChild(a);\n",
              "      a.click();\n",
              "      div.remove();\n",
              "    }\n",
              "  "
            ]
          },
          "metadata": {}
        },
        {
          "output_type": "display_data",
          "data": {
            "text/plain": [
              "<IPython.core.display.Javascript object>"
            ],
            "application/javascript": [
              "download(\"download_3edc4de6-083a-41ff-b868-e9e3eae7576b\", \"insurance_claim.pdf\", 1852)"
            ]
          },
          "metadata": {}
        }
      ]
    },
    {
      "cell_type": "code",
      "source": [
        "r = response_1.text.replace(\"```python\", \"\")\n",
        "r = r.replace(\"```\",\"\").replace(\"\\n\",\"\").replace(\" \",\"\").replace(\"\\\\\",\"\")"
      ],
      "metadata": {
        "id": "vmcpM6TgGni_"
      },
      "execution_count": null,
      "outputs": []
    },
    {
      "cell_type": "code",
      "source": [
        "def resp_to_dict(response):\n",
        "  return json.loads(response.text.replace(\"```python\", \"\").replace(\"```\",\"\").replace(\"\\n\",\"\").replace(\" \",\"\").replace(\"\\\\\",\"\"))\n"
      ],
      "metadata": {
        "id": "CKB7thLOHyDK"
      },
      "execution_count": null,
      "outputs": []
    },
    {
      "cell_type": "code",
      "source": [
        "resp_to_dict(response_1)\n"
      ],
      "metadata": {
        "colab": {
          "base_uri": "https://localhost:8080/",
          "height": 144
        },
        "id": "bK362kkSHyTQ",
        "outputId": "3b7bd128-2391-4276-e57e-2946875468b8"
      },
      "execution_count": null,
      "outputs": [
        {
          "output_type": "error",
          "ename": "NameError",
          "evalue": "name 'response_1' is not defined",
          "traceback": [
            "\u001b[0;31m---------------------------------------------------------------------------\u001b[0m",
            "\u001b[0;31mNameError\u001b[0m                                 Traceback (most recent call last)",
            "\u001b[0;32m<ipython-input-4-c944c9922043>\u001b[0m in \u001b[0;36m<cell line: 1>\u001b[0;34m()\u001b[0m\n\u001b[0;32m----> 1\u001b[0;31m \u001b[0mr1\u001b[0m \u001b[0;34m=\u001b[0m \u001b[0mresp_to_dict\u001b[0m\u001b[0;34m(\u001b[0m\u001b[0mresponse_1\u001b[0m\u001b[0;34m)\u001b[0m\u001b[0;34m\u001b[0m\u001b[0;34m\u001b[0m\u001b[0m\n\u001b[0m",
            "\u001b[0;31mNameError\u001b[0m: name 'response_1' is not defined"
          ]
        }
      ]
    },
    {
      "cell_type": "code",
      "source": [
        "resp_to_dict(response_2)"
      ],
      "metadata": {
        "colab": {
          "base_uri": "https://localhost:8080/"
        },
        "id": "bNIZn0QgHRpe",
        "outputId": "17c25d7b-df66-449a-a4eb-57c51ef90e86"
      },
      "execution_count": null,
      "outputs": [
        {
          "output_type": "execute_result",
          "data": {
            "text/plain": [
              "{'floorlamp': {'count': 1, 'normal': 1},\n",
              " 'chair': {'count': 2, 'normal': 2},\n",
              " 'pendantlight': {'count': 1, 'normal': 1}}"
            ]
          },
          "metadata": {},
          "execution_count": 51
        }
      ]
    },
    {
      "cell_type": "code",
      "source": [
        "\"\"\"Analyze the image I provide and identify the objects present in it. For each object, give an output in the form of a Python dictionary:\n",
        "\n",
        "python\n",
        "Copy code\n",
        "{\n",
        "    \"object_name\": {\n",
        "        \"count\": <number of objects detected>,\n",
        "        \"broken\": <number of broken objects>,\n",
        "        \"normal\": <number of normal objects>\n",
        "    }\n",
        "}\n",
        "Use the object's name as the key, and provide values for \"count,\" \"broken,\" and \"normal\" based on what you observe in the image. If an attribute does not apply to an object, omit it from the dictionary.\"\"\""
      ],
      "metadata": {
        "id": "huHJ-TQ5VGCv"
      },
      "execution_count": null,
      "outputs": []
    },
    {
      "cell_type": "code",
      "source": [
        "!pip install reportlab\n",
        "import os\n",
        "from reportlab.lib.pagesizes import letter\n",
        "from reportlab.lib import colors\n",
        "from reportlab.platypus import SimpleDocTemplate, Table, TableStyle\n",
        "from google.colab import files\n",
        "\n",
        "# Create the directory if it doesn't exist\n",
        "os.makedirs('/mnt/data', exist_ok=True)\n",
        "\n",
        "# Define the file path for the PDF\n",
        "file_path = '/mnt/data/insurance_claim.pdf'\n",
        "pdf = SimpleDocTemplate(file_path, pagesize= letter)\n",
        "\n",
        "\n",
        "# Table data\n",
        "data = [\n",
        "    [\"Item\", \"Qty\", \"Replacement Cost\", \"Total Cost\"],\n",
        "    [\"Table\", \"1\", \"50.0\", \"50.0\"],\n",
        "    [missing_keys, \"1\", \"500.0\", \"500.0\"]\n",
        "]\n",
        "\n",
        "# Create a table with data\n",
        "table = Table(data)\n",
        "\n",
        "# Style the table\n",
        "style = TableStyle([\n",
        "    ('BACKGROUND', (0, 0), (-1, 0), colors.lightgrey),\n",
        "    ('TEXTCOLOR', (0, 0), (-1, 0), colors.black),\n",
        "    ('ALIGN', (0, 0), (-1, -1), 'CENTER'),\n",
        "    ('FONTNAME', (0, 0), (-1, 0), 'Helvetica-Bold'),\n",
        "    ('FONTSIZE', (0, 0), (-1, -1), 10),\n",
        "    ('BOTTOMPADDING', (0, 0), (-1, 0), 12),\n",
        "    ('BACKGROUND', (0, 1), (-1, -1), colors.white),\n",
        "    ('GRID', (0, 0), (-1, -1), 1, colors.black),\n",
        "])\n",
        "\n",
        "table.setStyle(style)\n",
        "\n",
        "# Build the PDF\n",
        "elements = [table]\n",
        "pdf.build(elements)\n",
        "files.download('/mnt/data/insurance_claim.pdf')"
      ],
      "metadata": {
        "colab": {
          "base_uri": "https://localhost:8080/",
          "height": 491
        },
        "id": "HK3gtJVgHXQA",
        "outputId": "0ceb1077-5170-4b76-965e-651783d336b9"
      },
      "execution_count": null,
      "outputs": [
        {
          "output_type": "stream",
          "name": "stdout",
          "text": [
            "Requirement already satisfied: reportlab in /usr/local/lib/python3.10/dist-packages (4.2.5)\n",
            "Requirement already satisfied: pillow>=9.0.0 in /usr/local/lib/python3.10/dist-packages (from reportlab) (10.4.0)\n",
            "Requirement already satisfied: chardet in /usr/local/lib/python3.10/dist-packages (from reportlab) (5.2.0)\n",
            "Requirement already satisfied: reportlab in /usr/local/lib/python3.10/dist-packages (4.2.5)\n",
            "Requirement already satisfied: pillow>=9.0.0 in /usr/local/lib/python3.10/dist-packages (from reportlab) (10.4.0)\n",
            "Requirement already satisfied: chardet in /usr/local/lib/python3.10/dist-packages (from reportlab) (5.2.0)\n",
            "Requirement already satisfied: reportlab in /usr/local/lib/python3.10/dist-packages (4.2.5)\n",
            "Requirement already satisfied: pillow>=9.0.0 in /usr/local/lib/python3.10/dist-packages (from reportlab) (10.4.0)\n",
            "Requirement already satisfied: chardet in /usr/local/lib/python3.10/dist-packages (from reportlab) (5.2.0)\n",
            "Requirement already satisfied: reportlab in /usr/local/lib/python3.10/dist-packages (4.2.5)\n",
            "Requirement already satisfied: pillow>=9.0.0 in /usr/local/lib/python3.10/dist-packages (from reportlab) (10.4.0)\n",
            "Requirement already satisfied: chardet in /usr/local/lib/python3.10/dist-packages (from reportlab) (5.2.0)\n",
            "Requirement already satisfied: reportlab in /usr/local/lib/python3.10/dist-packages (4.2.5)\n",
            "Requirement already satisfied: pillow>=9.0.0 in /usr/local/lib/python3.10/dist-packages (from reportlab) (10.4.0)\n",
            "Requirement already satisfied: chardet in /usr/local/lib/python3.10/dist-packages (from reportlab) (5.2.0)\n"
          ]
        },
        {
          "output_type": "error",
          "ename": "NameError",
          "evalue": "name 'missing_keys' is not defined",
          "traceback": [
            "\u001b[0;31m---------------------------------------------------------------------------\u001b[0m",
            "\u001b[0;31mNameError\u001b[0m                                 Traceback (most recent call last)",
            "\u001b[0;32m<ipython-input-12-0027e3f59d4a>\u001b[0m in \u001b[0;36m<cell line: 22>\u001b[0;34m()\u001b[0m\n\u001b[1;32m     22\u001b[0m     \u001b[0;34m[\u001b[0m\u001b[0;34m\"Item\"\u001b[0m\u001b[0;34m,\u001b[0m \u001b[0;34m\"Qty\"\u001b[0m\u001b[0;34m,\u001b[0m \u001b[0;34m\"Replacement Cost\"\u001b[0m\u001b[0;34m,\u001b[0m \u001b[0;34m\"Total Cost\"\u001b[0m\u001b[0;34m]\u001b[0m\u001b[0;34m,\u001b[0m\u001b[0;34m\u001b[0m\u001b[0;34m\u001b[0m\u001b[0m\n\u001b[1;32m     23\u001b[0m     \u001b[0;34m[\u001b[0m\u001b[0;34m\"Table\"\u001b[0m\u001b[0;34m,\u001b[0m \u001b[0;34m\"1\"\u001b[0m\u001b[0;34m,\u001b[0m \u001b[0;34m\"50.0\"\u001b[0m\u001b[0;34m,\u001b[0m \u001b[0;34m\"50.0\"\u001b[0m\u001b[0;34m]\u001b[0m\u001b[0;34m,\u001b[0m\u001b[0;34m\u001b[0m\u001b[0;34m\u001b[0m\u001b[0m\n\u001b[0;32m---> 24\u001b[0;31m     \u001b[0;34m[\u001b[0m\u001b[0mmissing_keys\u001b[0m\u001b[0;34m,\u001b[0m \u001b[0;34m\"1\"\u001b[0m\u001b[0;34m,\u001b[0m \u001b[0;34m\"500.0\"\u001b[0m\u001b[0;34m,\u001b[0m \u001b[0;34m\"500.0\"\u001b[0m\u001b[0;34m]\u001b[0m\u001b[0;34m\u001b[0m\u001b[0;34m\u001b[0m\u001b[0m\n\u001b[0m\u001b[1;32m     25\u001b[0m ]\n\u001b[1;32m     26\u001b[0m \u001b[0;34m\u001b[0m\u001b[0m\n",
            "\u001b[0;31mNameError\u001b[0m: name 'missing_keys' is not defined"
          ]
        }
      ]
    },
    {
      "cell_type": "code",
      "source": [],
      "metadata": {
        "id": "eqC8FvWqH_tv"
      },
      "execution_count": null,
      "outputs": []
    }
  ],
  "metadata": {
    "colab": {
      "provenance": [],
      "include_colab_link": true
    },
    "kernelspec": {
      "display_name": "Python 3",
      "name": "python3"
    }
  },
  "nbformat": 4,
  "nbformat_minor": 0
}